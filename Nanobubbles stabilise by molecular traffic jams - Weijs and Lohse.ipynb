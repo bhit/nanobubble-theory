{
 "cells": [
  {
   "cell_type": "markdown",
   "metadata": {},
   "source": [
    "# Traffic jams of gas molecules stabilise surface nanobubbles\n",
    "#### Tan Beng Hau, Cavitation Lab\n",
    "\n",
    "In this notebook I implement the numerical solution to the diffusion problem by Weijs and Lohse (PRL 110 054501 2013). Molecules of gas from the liquid can be regarded to pass through a layer of liquid of thickness $\\ell$ and into the atmosphere. This is mediated by the diffusion equation\n",
    "\n",
    "$$ \\frac{\\partial c}{\\partial t} = D \\frac{\\partial^2 c}{\\partial z^2}, $$ \n",
    "\n",
    "mediated by the boundary conditions\n",
    "\n",
    "$$ c(z=0, t) = \\frac{p_{\\rm bub}}{k_H} = \\frac{2\\gamma}{k_H R} + \\frac{P_{\\rm atm}}{k_H},\\;\\;\\; c(z=\\ell,t) = \\frac{P_{\\rm atm}}{k_H}. $$\n",
    "\n",
    "Fick's law gives \n",
    "\n",
    "$$ \\frac{dN}{dt} = - AJ = -\\pi(L^2 +h^2) D \\frac{\\partial c}{\\partial z} \\bigg\\vert_{z=0}. $$\n",
    "\n",
    "In this document I have diverged slightly from the approach of Weijs *et al*, who used a surface coverage factor $1/\\rho$ in place of the area $A$. The factor $\\rho$ in that paper represents the average bubble spacing. Nevertheless the two approaches will lead to largely the same lifetimes, as $O(L^2+h^2) \\sim O(L^2) \\sim O(1/\\rho)$. The value of $\\partial c/\\partial z$ may be computed analytically from the diffusion equation, or numerically. In the numerical solution, we may *guess* that the initial concentration profile is linear, ie,\n",
    "\n",
    "$$ c(z,t=0) = \\frac{P_{\\rm bub} - P_{\\rm atm}}{k_H} \\left( 1 - \\frac{z}{\\ell} \\right) + \\frac{P_{\\rm atm}}{k_H}. $$\n",
    "\n",
    "The number of gas molecules in the bubble follows the ideal gas law,\n",
    "\n",
    "$$ \\left( P_{\\rm atm} + \\frac{4\\gamma h}{L^2 + h^2} \\right) \\frac{\\pi h}{6}(3L^2 + h^2) = N k_B T. $$\n",
    "\n",
    "Differentiating w.r.t. $h(t)$ gives \n",
    "\n",
    "$$ \\frac{\\pi}{6} (3L^2 + 3h^2 ) \\left( P_{\\rm atm} + \\frac{4\\gamma h}{L^2 + h^2} \\right) \\frac{dh}{dt}+ \\frac{\\pi h}{6}(3L^2 + h^2) \\left( \\frac{4\\gamma}{L^2 + h^2} - \\frac{8\\gamma h^2}{(L^2 + h^2)^2} \\right) \\frac{dh}{dt} = \\frac{dN}{dt} k_B T. $$\n",
    "\n",
    "$$ \\frac{\\pi}{6 k_B T} f(L,h) \\frac{dh}{dt} = - \\pi(L^2 + h^2) D \\frac{\\partial c}{\\partial z} \\bigg\\vert_{z=0}.$$ \n",
    "\n",
    "Then we have\n",
    "\n",
    "$$ \\frac{dh}{dt} = -6 k_B T D \\frac{L^2 + h^2}{f(L,h)} \\frac{\\partial c}{\\partial z}\\bigg\\vert_{z=0}, $$\n",
    "\n",
    "where \n",
    "\n",
    "$$ f(L,h) = \\left(3L^2 + 3h^2\\right) \\left( P_{\\rm atm} + \\frac{4\\gamma h}{L^2 + h^2} \\right)    + (3L^2 h+ h^3) \\left( \\frac{4\\gamma}{L^2 + h^2} - \\frac{8\\gamma h^2}{(L^2 + h^2)^2} \\right) .$$\n",
    "\n",
    "At every time step, we therefore have \n",
    "\n",
    "$$ h^{n+1} = h^n - 6k_B T D \\Delta t \\frac{L^2 + h^2}{f(L,h)} \\frac{\\partial c}{\\partial z} \\bigg\\vert_{z=0}. $$\n",
    "\n",
    "** Numerical scheme**. The numerical solution uses the method of lines. Here, the space coordinate $z$ is discretised using centred finite differences, leading to an ordinary differential equation\n",
    "\n",
    "$$\\frac{\\partial c}{\\partial t} = \\frac{D}{(\\Delta z)^2} (c_{i-1}^n - 2c_i^n + c_{i+1}^n) $$\n",
    "\n",
    "in the time coordinate $t$ which can be integrated using a standard (probably stiff) ODE solver. We only have to tweak the `diffusion` function in the code slightly to ensure that $c(z=0, t) = P_{\\rm bub}/k_H$ and $c(z=\\ell, t) = P_{\\rm atm}/k_H$. To calculate the concentration gradient $\\partial c/\\partial z$ I used a higher order discretisation equation\n",
    "\n",
    "$$ \\frac{\\partial c}{\\partial z} \\bigg\\vert_{z=0} \\approx \\frac{ -c_3^n + 8c_2^n - 8 c_1^n + c_0^n }{12 \\Delta z}, $$\n",
    "\n",
    "though I think the most basic discretisation \n",
    "\n",
    "$$ \\frac{\\partial c}{\\partial z} \\bigg\\vert_{z=0} \\approx \\frac{ c_1^n - c_0^n }{\\Delta z} $$\n",
    "\n",
    "will suffice.\n",
    "\n",
    "As in Weijs and Lohse, the calculation is stopped when $h \\sim 10^{-9}$ m."
   ]
  },
  {
   "cell_type": "code",
   "execution_count": 2,
   "metadata": {
    "collapsed": true
   },
   "outputs": [],
   "source": [
    "from __future__ import division\n",
    "from scipy import *\n",
    "import matplotlib.pyplot as plt\n",
    "from scipy import integrate\n",
    "%matplotlib inline"
   ]
  },
  {
   "cell_type": "code",
   "execution_count": 74,
   "metadata": {
    "collapsed": false
   },
   "outputs": [
    {
     "name": "stdout",
     "output_type": "stream",
     "text": [
      "5000\n",
      "10000\n",
      "15000\n",
      "20000\n",
      "25000\n",
      "30000\n",
      "35000\n",
      "40000\n",
      "45000\n",
      "50000\n",
      "55000\n",
      "60000\n",
      "65000\n",
      "70000\n",
      "75000\n",
      "80000\n",
      "85000\n",
      "90000\n",
      "95000\n",
      "100000\n",
      "105000\n",
      "110000\n",
      "115000\n",
      "120000\n",
      "125000\n",
      "130000\n",
      "135000\n",
      "140000\n",
      "145000\n",
      "150000\n",
      "155000\n",
      "160000\n",
      "165000\n",
      "170000\n",
      "175000\n",
      "180000\n",
      "185000\n",
      "190000\n",
      "195000\n",
      "200000\n",
      "205000\n",
      "210000\n",
      "215000\n",
      "220000\n",
      "225000\n",
      "230000\n",
      "235000\n",
      "240000\n",
      "245000\n",
      "250000\n",
      "255000\n",
      "260000\n",
      "265000\n",
      "270000\n",
      "275000\n",
      "280000\n",
      "285000\n",
      "290000\n",
      "295000\n",
      "300000\n",
      "305000\n",
      "310000\n",
      "315000\n",
      "320000\n",
      "325000\n",
      "330000\n",
      "335000\n",
      "340000\n",
      "345000\n",
      "350000\n",
      "355000\n",
      "360000\n",
      "365000\n",
      "370000\n",
      "375000\n",
      "380000\n",
      "385000\n",
      "390000\n",
      "395000\n",
      "400000\n"
     ]
    }
   ],
   "source": [
    "D = 2e-9\n",
    "kH = 2.6e-19\n",
    "T = 300\n",
    "R = 8.31\n",
    "kB = 1.38e-23\n",
    "Patm = 1e5\n",
    "gamma = 72e-3\n",
    "\n",
    "Nz = 300\n",
    "Nt = 400000\n",
    "ell = 1e-2\n",
    "tll = 70000\n",
    "\n",
    "dt = tll/Nt\n",
    "dz = ell/Nz\n",
    "lda = D*dt/(dz*dz)\n",
    "\n",
    "h0 = 50e-9\n",
    "L = 500e-9\n",
    "\n",
    "c = zeros(Nz)\n",
    "z = linspace(0,ell,Nz)\n",
    "\n",
    "def Pbub(L,h):\n",
    "    return Patm + 4*gamma*h / (L**2 + h**2)\n",
    "\n",
    "def func(L,h):\n",
    "    return (3*L**2 + 3*h**2) * (Patm + 4*gamma*h/(L**2 + h**2)) + (3*L**2 + h**2) *h* (4*gamma/(L**2 + h**2) - 8*gamma*h**2/((L**2 + h**2)**2) ) \n",
    "\n",
    "def diffusion(t,c, h):\n",
    "    dcdt = zeros(Nz)\n",
    "    dcdt[0] = D/(dz*dz) * (Pbub(L,h) / kH - 2*c[1] + c[2]) \n",
    "    dcdt[-1] = D/(dz*dz) * (Patm/kH - 2*c[Nz-2] + c[Nz-3]) \n",
    "\n",
    "    for i in range(1,Nz-1):\n",
    "        dcdt[i] = D * (c[i+1] - 2*c[i] + c[i-1]) / (dz*dz) \n",
    "    \n",
    "    return dcdt\n",
    "\n",
    "k = 1\n",
    "t = zeros((Nt,1))\n",
    "h = zeros((Nt,1))\n",
    "h[0]= h0\n",
    "bubHeightNow = h0\n",
    "c_initial = (Pbub(L,h0) - Patm) /kH * (1-z/ell) + Patm/kH\n",
    "\n",
    "ode = integrate.ode(diffusion).set_integrator('vode', method='bdf', atol=1e-10)\n",
    "ode.set_initial_value(c_initial, 0).set_f_params(h0)\n",
    "\n",
    "c_out = zeros((Nz,Nt))\n",
    "c_out[:,0] = c_initial\n",
    "\n",
    "while ode.successful() and k < Nt and bubHeightNow > 1e-9:\n",
    "    # Current nanobubble height   \n",
    "    dcdz = (-ode.y[3] + 8*ode.y[2] -8*ode.y[1] + ode.y[0])/(12*dz)\n",
    "    h[k] = h[k-1] + 6*kB*T*D*(L**2 + h[k-1]**2) / func(L,h[k-1]) * dt * dcdz\n",
    "    c_out[:,k] = ode.y\n",
    "    t[k] = ode.t\n",
    "    bubHeightNow = h[k]\n",
    "\n",
    "    # Method of lines\n",
    "    ode.set_f_params(h[k]) # Change the b.c.\n",
    "    ode.integrate(ode.t + dt)\n",
    "\n",
    "    k += 1\n",
    "    if k%5000==0: print k"
   ]
  },
  {
   "cell_type": "code",
   "execution_count": 89,
   "metadata": {
    "collapsed": false
   },
   "outputs": [
    {
     "data": {
      "image/png": "[encoded data removed]",
      "text/plain": [
       "<matplotlib.figure.Figure at 0x7ff0b5abe510>"
      ]
     },
     "metadata": {},
     "output_type": "display_data"
    }
   ],
   "source": [
    "plt.figure(figsize=(4,4))\n",
    "plt.title('Hourly concentration profiles')\n",
    "plt.ylim([Patm/kH, Pbub(L,h0)/kH])\n",
    "plt.xlabel('Length (mm)')\n",
    "plt.ylabel('Concentration $c(z,t)$')\n",
    "\n",
    "z_out = linspace(0,ell, Nz)\n",
    "for i in range(Nt):\n",
    "    if i%floor(Nt/tll * 3600) == 0:\n",
    "        plt.plot(z_out/1e-3, c_out[:,i],'k')\n",
    "        "
   ]
  },
  {
   "cell_type": "code",
   "execution_count": 76,
   "metadata": {
    "collapsed": false
   },
   "outputs": [
    {
     "data": {
      "text/plain": [
       "<matplotlib.text.Text at 0x7ff0b5d26c10>"
      ]
     },
     "execution_count": 76,
     "metadata": {},
     "output_type": "execute_result"
    },
    {
     "data": {
      "image/png": "[encoded data removed]",
      "text/plain": [
       "<matplotlib.figure.Figure at 0x7ff0b6e16510>"
      ]
     },
     "metadata": {},
     "output_type": "display_data"
    }
   ],
   "source": [
    "plt.figure(figsize=(5,5))\n",
    "t = linspace(0,tll,Nt)\n",
    "plt.plot(t/3600, h/1e-9)\n",
    "plt.xlabel('Time (h)')\n",
    "plt.ylabel('Height (nm)')"
   ]
  }
 ],
 "metadata": {
  "kernelspec": {
   "display_name": "Python 2",
   "language": "python",
   "name": "python2"
  },
  "language_info": {
   "codemirror_mode": {
    "name": "ipython",
    "version": 2
   },
   "file_extension": ".py",
   "mimetype": "text/x-python",
   "name": "python",
   "nbconvert_exporter": "python",
   "pygments_lexer": "ipython2",
   "version": "2.7.9"
  }
 },
 "nbformat": 4,
 "nbformat_minor": 0
}
