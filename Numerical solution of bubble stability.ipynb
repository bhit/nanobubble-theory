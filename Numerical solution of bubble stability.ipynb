{
 "metadata": {
  "name": "",
  "signature": "sha256:4a4bd001c02ed93c2d255a96c2dfa32715f62bf7406cb542c9aa5d01f12316c7"
 },
 "nbformat": 3,
 "nbformat_minor": 0,
 "worksheets": [
  {
   "cells": [
    {
     "cell_type": "heading",
     "level": 1,
     "metadata": {},
     "source": [
      "Numerical solution of bubble stability problem"
     ]
    },
    {
     "cell_type": "markdown",
     "metadata": {},
     "source": [
      "**Tan Beng Hau, Cavitation Lab**\n",
      "\n",
      "**Division of Physics and Applied Physics**\n",
      "\n",
      "**Nanyang Technological University**"
     ]
    },
    {
     "cell_type": "markdown",
     "metadata": {},
     "source": [
      "In this notebook I will solve the diffusion problem numerically. The one-dimensional diffusion equation is\n",
      "\n",
      "$$\\frac{\\partial c}{\\partial t} = D \\frac{\\partial^2 c}{\\partial x^2}$$\n",
      "\n",
      "Using the Crank-Nicolson scheme to discretise the equation, we have\n",
      "\n",
      "$$ 2\\lambda(c_i^{n+1} - c_i^n) = c_{i+1}^{n+1} - 2c_{i}^{n+1} + c_{i-1}^{n+1} + c_{i+1}^{n} - 2c_{i}^{n} + c_{i-1}^{n}, $$\n",
      "\n",
      "where $\\lambda \\equiv (\\Delta x)^2/(D\\Delta t)$. The goal of the numerical solution is to determine the concentration distribution $c_{i}^{n+1}$, at the time step $t^{n+1}$. We therefore write\n",
      "\n",
      "$$ -c_{i+1}^{n+1} + 2(\\lambda+1)c_i^{n+1} - c_{i-1}^{n+1} = c_{i+1}^n + 2(\\lambda -1) c_i^n + c_{i-1}^n.$$"
     ]
    },
    {
     "cell_type": "code",
     "collapsed": false,
     "input": [
      "from scipy import *\n",
      "import matplotlib.pyplot as plt\n",
      "from scipy.integrate import odeint\n",
      "%matplotlib inline\n",
      "from __future__ import division"
     ],
     "language": "python",
     "metadata": {},
     "outputs": [],
     "prompt_number": 324
    },
    {
     "cell_type": "code",
     "collapsed": false,
     "input": [
      "# Constants\n",
      "L = 200e-9     # Lateral radius of the nanobubble\n",
      "gamma = 72e-3  # surface tension\n",
      "kB = 1.38e-23  # Boltzmann constant\n",
      "T = 300.       # system temperature\n",
      "D = 2e-9       # diffusion constant\n",
      "kH = 2.6e-19   # Henry's law\n",
      "R = 8.31       # ideal gas constant\n",
      "Patm = 1e5     # atmospheric pressure\n",
      "rho = 4e12     # Flux density (Weijs et al, 2013)"
     ],
     "language": "python",
     "metadata": {},
     "outputs": [],
     "prompt_number": 325
    },
    {
     "cell_type": "markdown",
     "metadata": {},
     "source": [
      "In this problem, the values of gas concentration at the extreme ends of the computational domain are known. We will write the following discretisation equations so that the unknown variables are on the left hand side, and the known variables on the right. The concentration at the bubble side, $c_0^{n+1}$ is known, therefore\n",
      "\n",
      "$$ -c_2^{n+1} + 2(\\lambda + 1)c_1^{n+1}  = c_2^n + 2(\\lambda -1) c_1^n + c_0^n + c_0^{n+1} $$\n",
      "\n",
      "The concentration in the far field, $c_{n_x+1}^{n+1}$ is also known, and \n",
      "\n",
      "$$ 2(\\lambda + 1)c_{n_x-2}^{n+1} - c_{n_x-3}^{n+1} = c_{n_x -1}^n + 2(\\lambda -1) c_{n_x -2}^n + c_{n_x -3}^n +c_{n_x -1}^{n+1}. $$\n",
      "\n"
     ]
    },
    {
     "cell_type": "heading",
     "level": 2,
     "metadata": {},
     "source": [
      "Boundary conditions in the Laplace formulation"
     ]
    },
    {
     "cell_type": "markdown",
     "metadata": {},
     "source": [
      "In the classical treatment of the diffusion problem (Weijs and Lohse, 2013), it is assumed that the gas concentrations at the bubble, $x_0$ and in the far field $x_{n_x -1}$ are given, where $n_x - 1$ is the number of intervals in the computational domain in the space axis. \n",
      "\n",
      "The gas concentration at the bubble is given by the Laplace pressure and Henry's law, \n",
      "\n",
      "$$ c_{0}^{n+1} = \\frac{P_{\\rm atm} + 2\\gamma/r}{k_H}, $$\n",
      "\n",
      "where the radius of curvature of the bubble  \n",
      "\n",
      "$$ r(t) \\equiv \\frac{L^2 +h(t)^2}{2h(t)} $$\n",
      "\n",
      "is updated during the calculation by directly calculating the rate of loss of bubble height. On the other end of the computational domain, the gas concentration in the far field is given by Henry's law,\n",
      "\n",
      "$$ c_{n_x-1}^{n+1} = \\frac{P_{\\rm atm}}{k_H}. $$"
     ]
    },
    {
     "cell_type": "heading",
     "level": 2,
     "metadata": {},
     "source": [
      "Dense population of nanobubbles (Weijs et al)"
     ]
    },
    {
     "cell_type": "markdown",
     "metadata": {},
     "source": [
      "The paper from Weijs and Lohse (2013) considers a dense population of nanobubbles, for which the flux is \n",
      "\n",
      "$$ \\frac{dN}{dt} = \\frac{D}{\\rho} \\frac{\\partial c}{\\partial x}\\bigg|_{x=0},$$\n",
      "\n",
      "where $\\rho$ represents the flux density (flux per unit area of substrate),\n",
      "\n",
      "$$ \\rho \\approx \\frac{1}{\\langle d_{\\rm bub} \\rangle^2}.$$\n",
      "\n",
      "where $\\langle d_{\\rm bub} \\rangle$ is the mean bubble spacing, which on HOPG is in the order of 500 nm. From the ideal gas law and the geometry of the spherical cap bubble, we also have \n",
      "\n",
      "$$ \\left(P_{\\rm atm} + \\frac{2\\gamma h}{L^2 + h^2}\\right) \\frac{\\pi h}{6}(3L^2 + h^2) = NkT. $$\n",
      "\n",
      "Rearranging and deriving with respect to $t$ gives \n",
      "\n",
      "$$ \\frac{dN}{dt} = \\frac{dh}{dt}\\frac{\\pi }{6kT} \\left[ - 3(h^2+L^2) \\left( P_{\\rm atm} + \\frac{2\\gamma h}{L^2 +h^2}\\right) + (h^3 + 3 hL^2) \\left(\\frac{2\\gamma}{h^2+L^2} - \\frac{4\\gamma h^2}{(L^2+h^2)^2}\\right)\\right].$$\n",
      "\n",
      "By comparing the equations for $dN/dt$ from geometry and from Fick's law we get an expression to update the bubble height. \n",
      "\n",
      "As the numerical calculation progresses, we update\n",
      "\n",
      "$$ h(t_{n+1}) = h(t_n) + \\Delta t \\cdot F(L,h(t))  D\\frac{\\partial c}{\\partial x}\\bigg|_{x=0},$$\n",
      "\n",
      "where $F(L,h)$ is a function that we obtain from comparing terms. Note that the bubble always shrinks. $h(t)$ *decreases* in time because $\\partial c/\\partial x$ has a negative gradient because the bubble side concentration at $x=0$ is always larger than the bulk concentration at $x=l$. "
     ]
    },
    {
     "cell_type": "code",
     "collapsed": false,
     "input": [
      "from scipy.linalg import solve\n",
      "\n",
      "def generateMatrix(N, lmda):\n",
      "    d = 2*diag(ones(N-2)*(lmda + 1))    \n",
      "    ud = diag(ones(N-3)*-1, 1)\n",
      "    ld = diag(ones(N-3)*-1, -1)    \n",
      "    return d + ud + ld\n",
      "\n",
      "def generateRHS(c, lmda, bubConcentration, bulkConcentration):\n",
      "    b = c[1:-1]*2*(lmda - 1) + c[:-2] + c[2:]\n",
      "    b[0] += bubConcentration    # Dirichlet b.c. at the bubble\n",
      "    b[-1] += bulkConcentration  # Dirichlet b.c. at the bulk\n",
      "    return b\n",
      "\n",
      "def LaplaceTermWeijs(h):\n",
      "    r =  (L**2 + h**2)/(2*h)\n",
      "    term1 = 3*(h**2 + L**2)*(Patm+2*gamma/r)\n",
      "    term2 = (h**3 + 3*h*L**2) * ( 2*gamma/(h**2 +L**2) - 4*gamma*h**2 / (L**2+h**2)**2)\n",
      "    return term1 + term2\n",
      "\n",
      "# Crank-Nicolson algorithm\n",
      "def CrankNicolsonLaplace(c, A, nt, h0, dx, dt, lmda): \n",
      "    h = zeros(nt)\n",
      "    h[0] = h0\n",
      "    bulkConc = Patm/kH\n",
      "    # For each time step... \n",
      "    for t in range(nt-1):\n",
      "        # Update the Dirichlet b.c. which is stored in matrix b\n",
      "        bubConc = Patm / kH + 2*gamma*h[t] / (kH*(L**2 + h[t]**2))\n",
      "        c[0] = bubConc\n",
      "        c[-1] = bulkConc\n",
      "\n",
      "        cn = c.copy()                \n",
      "        b = generateRHS(cn, lmda, bubConc, bulkConc)\n",
      "        c_interior = solve(A,b)\n",
      "        c[1:-1] = c_interior\n",
      "        dcdx = (c[0] - c[1]) / (dx)\n",
      "        \n",
      "        h[t+1] = h[t] - dt * (6*kB*T*D/(rho*pi)) / LaplaceTermWeijs(h[t])*dcdx\n",
      "    return c, h\n",
      " "
     ],
     "language": "python",
     "metadata": {},
     "outputs": [],
     "prompt_number": 326
    },
    {
     "cell_type": "code",
     "collapsed": false,
     "input": [
      "# Computational constants\n",
      "L_end = 1e-2           # Diffusion length scale\n",
      "num_x = 200             # Number of space steps\n",
      "dx = L_end/(num_x - 1) # Space interval\n",
      "\n",
      "T_end = 2e4             # Time scale\n",
      "num_t = 1e5            # Number of time steps\n",
      "dt = T_end/(num_t - 1) # Time interval\n",
      "\n",
      "lmda = (dx*dx) / (D*dt)# Lambda\n",
      "print 1/lmda # CFL number\n",
      "\n",
      "# Set up the initial concentration distribution\n",
      "x = linspace(0,L_end,num_x)\n",
      "L = 200e-9\n",
      "h0 = 100e-9\n",
      "\n",
      "# Initial gas concentration distribution\n",
      "c = (2*gamma*h0/(L**2 + h0**2)) / kH * (1 - x/L_end) + Patm/kH\n",
      "\n",
      "plt.plot(x/1e-3,c)\n",
      "x_save = x\n",
      "c_save = c\n",
      "plt.title('Initial concentration distribution')\n",
      "plt.xlabel('Distance $x$ (mm)')\n",
      "plt.ylabel('Concentration $c$')\n"
     ],
     "language": "python",
     "metadata": {},
     "outputs": [
      {
       "output_type": "stream",
       "stream": "stdout",
       "text": [
        "0.158405584056\n"
       ]
      },
      {
       "metadata": {},
       "output_type": "pyout",
       "prompt_number": 327,
       "text": [
        "<matplotlib.text.Text at 0x13985e190>"
       ]
      },
      {
       "metadata": {},
       "output_type": "display_data",
       "png": "[encoded data removed]",
       "text": [
        "<matplotlib.figure.Figure at 0x126609690>"
       ]
      }
     ],
     "prompt_number": 327
    },
    {
     "cell_type": "code",
     "collapsed": false,
     "input": [
      "# Solve the Crank-Nicolson\n",
      "A = generateMatrix(num_x, lmda)\n",
      "c_out, h_out = CrankNicolsonLaplace(c, A, int(num_t), h0, dx, dt, lmda)"
     ],
     "language": "python",
     "metadata": {},
     "outputs": [],
     "prompt_number": 328
    },
    {
     "cell_type": "heading",
     "level": 2,
     "metadata": {},
     "source": [
      "Results of the calculation"
     ]
    },
    {
     "cell_type": "code",
     "collapsed": false,
     "input": [
      "plt.plot(x/1e-3,c_out,x/1e-3,c_save)\n",
      "plt.title('Final concentration distribution')\n",
      "plt.xlabel('Depth of liquid, $x$ (mm)')\n",
      "plt.ylabel('Concentration, $c$')"
     ],
     "language": "python",
     "metadata": {},
     "outputs": [
      {
       "metadata": {},
       "output_type": "pyout",
       "prompt_number": 329,
       "text": [
        "<matplotlib.text.Text at 0x1398600d0>"
       ]
      },
      {
       "metadata": {},
       "output_type": "display_data",
       "png": "[encoded data removed]",
       "text": [
        "<matplotlib.figure.Figure at 0x1265fa210>"
       ]
      }
     ]
    },
    {
     "cell_type": "code",
     "collapsed": false,
     "input": [
      "#plt.plot(h_out/1e-9)\n",
      "xAxis = linspace(0, T_end, num_t)\n",
      "plt.plot(xAxis,h_out/1e-9,'b')\n",
      "# plt.ylim([0,100])\n",
      "plt.ylabel('Nanobubble height (nm)')\n",
      "plt.xlabel('Time (s)')\n",
      "# plt.plot(h_out[:10]/1e-9,'bo')"
     ],
     "language": "python",
     "metadata": {},
     "outputs": [
      {
       "metadata": {},
       "output_type": "pyout",
       "prompt_number": 330,
       "text": [
        "<matplotlib.text.Text at 0x13985ea10>"
       ]
      }
     ]
    },
    {
     "cell_type": "heading",
     "level": 2,
     "metadata": {},
     "source": [
      "Updates"
     ]
    },
    {
     "cell_type": "markdown",
     "metadata": {},
     "source": [
      "**30 December**: Just fixed a horrible mistake - the radius of curvature is wrong, so had to rewrite the equations again. The calculation seems to work well up to $t=1000$ seconds or so, but then starts to blow up. The simulation is very slow, but it seems this is because Crank-Nicolson is unconditionally stable but requires a small CFL number $\\lambda$ for accuracy."
     ]
    },
    {
     "cell_type": "code",
     "collapsed": false,
     "input": [],
     "language": "python",
     "metadata": {},
     "outputs": []
    }
   ],
   "metadata": {}
  }
 ]
}